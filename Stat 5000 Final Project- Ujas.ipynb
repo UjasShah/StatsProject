{
 "cells": [
  {
   "cell_type": "markdown",
   "id": "f2804f45",
   "metadata": {},
   "source": [
    "# <center>Predicting delivery times for products sold on eBay</center>"
   ]
  },
  {
   "cell_type": "markdown",
   "id": "460d2668",
   "metadata": {},
   "source": [
    "## <center>Final project for STAT 5000</center>"
   ]
  },
  {
   "cell_type": "markdown",
   "id": "eb530245",
   "metadata": {},
   "source": [
    "## <center>Ujas Shah</center>"
   ]
  },
  {
   "cell_type": "markdown",
   "id": "959c6b78",
   "metadata": {},
   "source": [
    "### <center>December 06, 2021</center>"
   ]
  },
  {
   "cell_type": "markdown",
   "id": "030c2c31",
   "metadata": {},
   "source": [
    "GitHub:"
   ]
  },
  {
   "cell_type": "markdown",
   "id": "b805227a",
   "metadata": {},
   "source": [
    "## Abstract"
   ]
  },
  {
   "cell_type": "markdown",
   "id": "4953bf58",
   "metadata": {},
   "source": []
  },
  {
   "cell_type": "markdown",
   "id": "67984ad6",
   "metadata": {},
   "source": [
    "Keywords: Machine Leaning, Linear Regression, CatBoost, Delivery Date Prediction."
   ]
  },
  {
   "cell_type": "markdown",
   "id": "162db344",
   "metadata": {},
   "source": [
    "<div style=\"page-break-after: always;\"></div>"
   ]
  },
  {
   "cell_type": "markdown",
   "id": "912536ba",
   "metadata": {},
   "source": [
    "### Project Introduction"
   ]
  },
  {
   "cell_type": "markdown",
   "id": "0080e387",
   "metadata": {},
   "source": [
    "#### Acknowledgements\n",
    "This project was made possible by eBay. As part of the eBay ML challenge (hosted on eval.ai), the company has shared a dataset related to purchases made on the website in the year 2018 and 2019, in order to find the most accurate way to predict delivery times.\n",
    "\n",
    "The data is owned by eBay and I do not have the authority to share it. Hence, I will not be a public Github link here to load the data. However, if as part of this project, you need access to the data, I am happy to show it to you in person."
   ]
  },
  {
   "cell_type": "markdown",
   "id": "f8d60f38",
   "metadata": {},
   "source": [
    "#### Problem Statement\n",
    "Our aim in this project is to try to accurately predict delivery times for purchases made on eBay.  \n",
    "\n",
    "There are some challenges posed by this problem. Data quality is one of the primary ones. As transactions on the website are done between business and customers, and also between customers and and other customers, the quality of data put in by these sellers and buyers suffers. Furthermore, a large list of different shipping methods (25 different ways) and large geographic variability of shipments between logistically well and not-so-well connected areas also increases challenge in making an accurate prediction."
   ]
  },
  {
   "cell_type": "markdown",
   "id": "62ac3f00",
   "metadata": {},
   "source": [
    "#### The dataset\n",
    "The dataset that I am working with has to following features:\n",
    "* b2c_c2c: String variable that shows whether the seller is a business or a customer\n",
    "* seller_id: Integer variable with a unique integer for each seller\n",
    "* declared_handling_days: Integer variable for the number of days it takes for the seller to deliver the package to the carrier service (which will finally deliver the package to the buyer)\n",
    "* acceptance_scan_timestamp: string variable for the datetime stamp of when the carrier recieves the package\n",
    "* shipment_method_id: integer variable for the type of shipping method\n",
    "* carrier_min_estimate: integer variable for the carrier's estimate of minimum delivery time\n",
    "* carrier_max_estimate: integer variable for the carrier's estimate of maximum delivery time\n",
    "* item_zip: string variable for the zip code of item location\n",
    "* buyer_zip: string variable for the buyer's zipcode\n",
    "* category_id: integer variable for the type of product purchased\n",
    "* item_price: float variable for the price of item (averaged if multiple items purchased\n",
    "* quantity: integer variable for the number of items purchased\n",
    "* payment_datetime: string variable for the date and time of the buyer's payment\n",
    "* delivery_date: string variable of the delivery date\n",
    "* weight: float variable for the weight of the purchased item\n",
    "* weight_units: integer variable where 1 indicates weight in lbs and 2 indicates weight in kgs\n",
    "* package_size: string variable describing the package size\n",
    "* record number: integer variable with unique number to identify each purchase"
   ]
  },
  {
   "cell_type": "markdown",
   "id": "5f96cf80",
   "metadata": {},
   "source": [
    "#### Recommended Hardware and Software Requirements\n",
    "Processor: Intel core i5 and above  \n",
    "RAM: 16GB  \n",
    "Disk Space: 10GB\n",
    "\n",
    "Python: version 3.7.1"
   ]
  },
  {
   "cell_type": "markdown",
   "id": "4d9c1dc5",
   "metadata": {},
   "source": [
    "### Literature Review\n",
    "1. In the paper \"Boosting Algorithms for Delivery Time Prediction in Transportation Logistcs\", written by Jihed Khiari et. al., they focus on predicting the delivery dates in the logistics industry. To be more specific, they focus on predicting longer delivery times as there are many existing solutions for a shorter time frame. They have gone ahead with boosting algorithms like Light Gradient Boosting and CatBoost. They chose these algorithms as the accuracy and runtime efficiency was better than the baseline models such as linear regression models, bagging regressor, and random forest.\n",
    "2. A thesis titled \"Predicting the Last Mile: Route-Free Prediction of Parcel Delivery Time with Deep Learning for Smart-City Applications\", written by Arthur Cruz De Araujo and presented at Queen's University, Kingston, focuses on improving the user experience by better modeling their anticipated delivery dates and to aid the last-mile postal logistics as a whole. They have implemented many convolutional neural networks and machine learning models. After their analysis, they found the ResNet model with 8 blocks to be the one with the best performance-complexity tradeoff.\n",
    "3. The paper titled \"Predicting Package Delivery Time for Motorcycles in Nairobi\", written by Joseph A. Magiya in the year 2020 at Kenya College of Accountancy as a thesis in the field of Data Science. The research focuses on analyzing the delivery trends when products are delivered over a motorcycle. The analysis and feature engineering done helped us to better understand our data and find the relationships between data points. They have currently implemented a basic linear regression model with very low accuracy and plan to build on it from here."
   ]
  },
  {
   "cell_type": "markdown",
   "id": "797e35d2",
   "metadata": {},
   "source": [
    "### Importing Required Libraries and Loading Data"
   ]
  },
  {
   "cell_type": "code",
   "execution_count": 3,
   "id": "b43ca5c9",
   "metadata": {},
   "outputs": [
    {
     "data": {
      "text/html": [
       "<div>\n",
       "<style scoped>\n",
       "    .dataframe tbody tr th:only-of-type {\n",
       "        vertical-align: middle;\n",
       "    }\n",
       "\n",
       "    .dataframe tbody tr th {\n",
       "        vertical-align: top;\n",
       "    }\n",
       "\n",
       "    .dataframe thead th {\n",
       "        text-align: right;\n",
       "    }\n",
       "</style>\n",
       "<table border=\"1\" class=\"dataframe\">\n",
       "  <thead>\n",
       "    <tr style=\"text-align: right;\">\n",
       "      <th></th>\n",
       "      <th>b2c_c2c</th>\n",
       "      <th>seller_id</th>\n",
       "      <th>declared_handling_days</th>\n",
       "      <th>acceptance_scan_timestamp</th>\n",
       "      <th>shipment_method_id</th>\n",
       "      <th>shipping_fee</th>\n",
       "      <th>carrier_min_estimate</th>\n",
       "      <th>carrier_max_estimate</th>\n",
       "      <th>item_zip</th>\n",
       "      <th>buyer_zip</th>\n",
       "      <th>category_id</th>\n",
       "      <th>item_price</th>\n",
       "      <th>quantity</th>\n",
       "      <th>payment_datetime</th>\n",
       "      <th>delivery_date</th>\n",
       "      <th>weight</th>\n",
       "      <th>weight_units</th>\n",
       "      <th>package_size</th>\n",
       "      <th>record_number</th>\n",
       "    </tr>\n",
       "  </thead>\n",
       "  <tbody>\n",
       "    <tr>\n",
       "      <th>0</th>\n",
       "      <td>B2C</td>\n",
       "      <td>25454</td>\n",
       "      <td>3.0</td>\n",
       "      <td>2019-03-26 15:11:00.000-07:00</td>\n",
       "      <td>0</td>\n",
       "      <td>0.00</td>\n",
       "      <td>3</td>\n",
       "      <td>5</td>\n",
       "      <td>97219</td>\n",
       "      <td>49040</td>\n",
       "      <td>13</td>\n",
       "      <td>27.95</td>\n",
       "      <td>1</td>\n",
       "      <td>2019-03-24 03:56:49.000-07:00</td>\n",
       "      <td>2019-03-29</td>\n",
       "      <td>5</td>\n",
       "      <td>1</td>\n",
       "      <td>LETTER</td>\n",
       "      <td>1</td>\n",
       "    </tr>\n",
       "    <tr>\n",
       "      <th>1</th>\n",
       "      <td>C2C</td>\n",
       "      <td>6727381</td>\n",
       "      <td>2.0</td>\n",
       "      <td>2018-06-02 12:53:00.000-07:00</td>\n",
       "      <td>0</td>\n",
       "      <td>3.00</td>\n",
       "      <td>3</td>\n",
       "      <td>5</td>\n",
       "      <td>11415-3528</td>\n",
       "      <td>62521</td>\n",
       "      <td>0</td>\n",
       "      <td>20.50</td>\n",
       "      <td>1</td>\n",
       "      <td>2018-06-01 13:43:54.000-07:00</td>\n",
       "      <td>2018-06-05</td>\n",
       "      <td>0</td>\n",
       "      <td>1</td>\n",
       "      <td>PACKAGE_THICK_ENVELOPE</td>\n",
       "      <td>2</td>\n",
       "    </tr>\n",
       "    <tr>\n",
       "      <th>2</th>\n",
       "      <td>B2C</td>\n",
       "      <td>18507</td>\n",
       "      <td>1.0</td>\n",
       "      <td>2019-01-07 16:22:00.000-05:00</td>\n",
       "      <td>0</td>\n",
       "      <td>4.50</td>\n",
       "      <td>3</td>\n",
       "      <td>5</td>\n",
       "      <td>27292</td>\n",
       "      <td>53010</td>\n",
       "      <td>1</td>\n",
       "      <td>19.90</td>\n",
       "      <td>1</td>\n",
       "      <td>2019-01-06 00:02:00.000-05:00</td>\n",
       "      <td>2019-01-10</td>\n",
       "      <td>9</td>\n",
       "      <td>1</td>\n",
       "      <td>PACKAGE_THICK_ENVELOPE</td>\n",
       "      <td>3</td>\n",
       "    </tr>\n",
       "    <tr>\n",
       "      <th>3</th>\n",
       "      <td>B2C</td>\n",
       "      <td>4677</td>\n",
       "      <td>1.0</td>\n",
       "      <td>2018-12-17 16:56:00.000-08:00</td>\n",
       "      <td>0</td>\n",
       "      <td>0.00</td>\n",
       "      <td>3</td>\n",
       "      <td>5</td>\n",
       "      <td>90703</td>\n",
       "      <td>80022</td>\n",
       "      <td>1</td>\n",
       "      <td>35.50</td>\n",
       "      <td>1</td>\n",
       "      <td>2018-12-16 10:28:28.000-08:00</td>\n",
       "      <td>2018-12-21</td>\n",
       "      <td>8</td>\n",
       "      <td>1</td>\n",
       "      <td>PACKAGE_THICK_ENVELOPE</td>\n",
       "      <td>4</td>\n",
       "    </tr>\n",
       "    <tr>\n",
       "      <th>4</th>\n",
       "      <td>B2C</td>\n",
       "      <td>4677</td>\n",
       "      <td>1.0</td>\n",
       "      <td>2018-07-27 16:48:00.000-07:00</td>\n",
       "      <td>0</td>\n",
       "      <td>0.00</td>\n",
       "      <td>3</td>\n",
       "      <td>5</td>\n",
       "      <td>90703</td>\n",
       "      <td>55070</td>\n",
       "      <td>1</td>\n",
       "      <td>25.00</td>\n",
       "      <td>1</td>\n",
       "      <td>2018-07-26 18:20:02.000-07:00</td>\n",
       "      <td>2018-07-30</td>\n",
       "      <td>3</td>\n",
       "      <td>1</td>\n",
       "      <td>PACKAGE_THICK_ENVELOPE</td>\n",
       "      <td>5</td>\n",
       "    </tr>\n",
       "    <tr>\n",
       "      <th>...</th>\n",
       "      <td>...</td>\n",
       "      <td>...</td>\n",
       "      <td>...</td>\n",
       "      <td>...</td>\n",
       "      <td>...</td>\n",
       "      <td>...</td>\n",
       "      <td>...</td>\n",
       "      <td>...</td>\n",
       "      <td>...</td>\n",
       "      <td>...</td>\n",
       "      <td>...</td>\n",
       "      <td>...</td>\n",
       "      <td>...</td>\n",
       "      <td>...</td>\n",
       "      <td>...</td>\n",
       "      <td>...</td>\n",
       "      <td>...</td>\n",
       "      <td>...</td>\n",
       "      <td>...</td>\n",
       "    </tr>\n",
       "    <tr>\n",
       "      <th>14999995</th>\n",
       "      <td>B2C</td>\n",
       "      <td>80139</td>\n",
       "      <td>5.0</td>\n",
       "      <td>2018-05-04 15:36:00.000-05:00</td>\n",
       "      <td>1</td>\n",
       "      <td>9.85</td>\n",
       "      <td>2</td>\n",
       "      <td>5</td>\n",
       "      <td>60010</td>\n",
       "      <td>08846</td>\n",
       "      <td>3</td>\n",
       "      <td>7.35</td>\n",
       "      <td>1</td>\n",
       "      <td>2018-04-30 22:30:00.000-05:00</td>\n",
       "      <td>2018-05-07</td>\n",
       "      <td>32</td>\n",
       "      <td>1</td>\n",
       "      <td>PACKAGE_THICK_ENVELOPE</td>\n",
       "      <td>14999996</td>\n",
       "    </tr>\n",
       "    <tr>\n",
       "      <th>14999996</th>\n",
       "      <td>C2C</td>\n",
       "      <td>452486</td>\n",
       "      <td>2.0</td>\n",
       "      <td>2018-05-02 14:53:00.000-04:00</td>\n",
       "      <td>2</td>\n",
       "      <td>0.00</td>\n",
       "      <td>2</td>\n",
       "      <td>9</td>\n",
       "      <td>47909</td>\n",
       "      <td>29070</td>\n",
       "      <td>1</td>\n",
       "      <td>36.00</td>\n",
       "      <td>1</td>\n",
       "      <td>2018-05-01 19:59:43.000-04:00</td>\n",
       "      <td>2018-05-08</td>\n",
       "      <td>64</td>\n",
       "      <td>1</td>\n",
       "      <td>PACKAGE_THICK_ENVELOPE</td>\n",
       "      <td>14999997</td>\n",
       "    </tr>\n",
       "    <tr>\n",
       "      <th>14999997</th>\n",
       "      <td>B2C</td>\n",
       "      <td>43307</td>\n",
       "      <td>3.0</td>\n",
       "      <td>2018-06-06 15:21:00.000-07:00</td>\n",
       "      <td>2</td>\n",
       "      <td>2.99</td>\n",
       "      <td>2</td>\n",
       "      <td>9</td>\n",
       "      <td>91766</td>\n",
       "      <td>62363</td>\n",
       "      <td>0</td>\n",
       "      <td>7.99</td>\n",
       "      <td>1</td>\n",
       "      <td>2018-06-05 14:20:14.000-07:00</td>\n",
       "      <td>2018-06-11</td>\n",
       "      <td>0</td>\n",
       "      <td>1</td>\n",
       "      <td>NONE</td>\n",
       "      <td>14999998</td>\n",
       "    </tr>\n",
       "    <tr>\n",
       "      <th>14999998</th>\n",
       "      <td>B2C</td>\n",
       "      <td>24235</td>\n",
       "      <td>1.0</td>\n",
       "      <td>2018-12-17 10:55:00.000-05:00</td>\n",
       "      <td>0</td>\n",
       "      <td>0.00</td>\n",
       "      <td>3</td>\n",
       "      <td>5</td>\n",
       "      <td>18011</td>\n",
       "      <td>000</td>\n",
       "      <td>1</td>\n",
       "      <td>34.99</td>\n",
       "      <td>1</td>\n",
       "      <td>2018-12-16 15:01:46.000-05:00</td>\n",
       "      <td>2018-12-20</td>\n",
       "      <td>13</td>\n",
       "      <td>1</td>\n",
       "      <td>PACKAGE_THICK_ENVELOPE</td>\n",
       "      <td>14999999</td>\n",
       "    </tr>\n",
       "    <tr>\n",
       "      <th>14999999</th>\n",
       "      <td>C2C</td>\n",
       "      <td>535916</td>\n",
       "      <td>3.0</td>\n",
       "      <td>2018-05-03 12:56:00.000-04:00</td>\n",
       "      <td>1</td>\n",
       "      <td>7.45</td>\n",
       "      <td>2</td>\n",
       "      <td>5</td>\n",
       "      <td>16686</td>\n",
       "      <td>65673</td>\n",
       "      <td>3</td>\n",
       "      <td>205.50</td>\n",
       "      <td>1</td>\n",
       "      <td>2018-05-01 11:20:08.000-04:00</td>\n",
       "      <td>2018-05-07</td>\n",
       "      <td>15</td>\n",
       "      <td>1</td>\n",
       "      <td>PACKAGE_THICK_ENVELOPE</td>\n",
       "      <td>15000000</td>\n",
       "    </tr>\n",
       "  </tbody>\n",
       "</table>\n",
       "<p>15000000 rows × 19 columns</p>\n",
       "</div>"
      ],
      "text/plain": [
       "         b2c_c2c  seller_id  declared_handling_days  \\\n",
       "0            B2C      25454                     3.0   \n",
       "1            C2C    6727381                     2.0   \n",
       "2            B2C      18507                     1.0   \n",
       "3            B2C       4677                     1.0   \n",
       "4            B2C       4677                     1.0   \n",
       "...          ...        ...                     ...   \n",
       "14999995     B2C      80139                     5.0   \n",
       "14999996     C2C     452486                     2.0   \n",
       "14999997     B2C      43307                     3.0   \n",
       "14999998     B2C      24235                     1.0   \n",
       "14999999     C2C     535916                     3.0   \n",
       "\n",
       "              acceptance_scan_timestamp  shipment_method_id  shipping_fee  \\\n",
       "0         2019-03-26 15:11:00.000-07:00                   0          0.00   \n",
       "1         2018-06-02 12:53:00.000-07:00                   0          3.00   \n",
       "2         2019-01-07 16:22:00.000-05:00                   0          4.50   \n",
       "3         2018-12-17 16:56:00.000-08:00                   0          0.00   \n",
       "4         2018-07-27 16:48:00.000-07:00                   0          0.00   \n",
       "...                                 ...                 ...           ...   \n",
       "14999995  2018-05-04 15:36:00.000-05:00                   1          9.85   \n",
       "14999996  2018-05-02 14:53:00.000-04:00                   2          0.00   \n",
       "14999997  2018-06-06 15:21:00.000-07:00                   2          2.99   \n",
       "14999998  2018-12-17 10:55:00.000-05:00                   0          0.00   \n",
       "14999999  2018-05-03 12:56:00.000-04:00                   1          7.45   \n",
       "\n",
       "          carrier_min_estimate  carrier_max_estimate    item_zip buyer_zip  \\\n",
       "0                            3                     5       97219     49040   \n",
       "1                            3                     5  11415-3528     62521   \n",
       "2                            3                     5       27292     53010   \n",
       "3                            3                     5       90703     80022   \n",
       "4                            3                     5       90703     55070   \n",
       "...                        ...                   ...         ...       ...   \n",
       "14999995                     2                     5       60010     08846   \n",
       "14999996                     2                     9       47909     29070   \n",
       "14999997                     2                     9       91766     62363   \n",
       "14999998                     3                     5       18011       000   \n",
       "14999999                     2                     5       16686     65673   \n",
       "\n",
       "          category_id  item_price  quantity               payment_datetime  \\\n",
       "0                  13       27.95         1  2019-03-24 03:56:49.000-07:00   \n",
       "1                   0       20.50         1  2018-06-01 13:43:54.000-07:00   \n",
       "2                   1       19.90         1  2019-01-06 00:02:00.000-05:00   \n",
       "3                   1       35.50         1  2018-12-16 10:28:28.000-08:00   \n",
       "4                   1       25.00         1  2018-07-26 18:20:02.000-07:00   \n",
       "...               ...         ...       ...                            ...   \n",
       "14999995            3        7.35         1  2018-04-30 22:30:00.000-05:00   \n",
       "14999996            1       36.00         1  2018-05-01 19:59:43.000-04:00   \n",
       "14999997            0        7.99         1  2018-06-05 14:20:14.000-07:00   \n",
       "14999998            1       34.99         1  2018-12-16 15:01:46.000-05:00   \n",
       "14999999            3      205.50         1  2018-05-01 11:20:08.000-04:00   \n",
       "\n",
       "         delivery_date  weight  weight_units            package_size  \\\n",
       "0           2019-03-29       5             1                  LETTER   \n",
       "1           2018-06-05       0             1  PACKAGE_THICK_ENVELOPE   \n",
       "2           2019-01-10       9             1  PACKAGE_THICK_ENVELOPE   \n",
       "3           2018-12-21       8             1  PACKAGE_THICK_ENVELOPE   \n",
       "4           2018-07-30       3             1  PACKAGE_THICK_ENVELOPE   \n",
       "...                ...     ...           ...                     ...   \n",
       "14999995    2018-05-07      32             1  PACKAGE_THICK_ENVELOPE   \n",
       "14999996    2018-05-08      64             1  PACKAGE_THICK_ENVELOPE   \n",
       "14999997    2018-06-11       0             1                    NONE   \n",
       "14999998    2018-12-20      13             1  PACKAGE_THICK_ENVELOPE   \n",
       "14999999    2018-05-07      15             1  PACKAGE_THICK_ENVELOPE   \n",
       "\n",
       "          record_number  \n",
       "0                     1  \n",
       "1                     2  \n",
       "2                     3  \n",
       "3                     4  \n",
       "4                     5  \n",
       "...                 ...  \n",
       "14999995       14999996  \n",
       "14999996       14999997  \n",
       "14999997       14999998  \n",
       "14999998       14999999  \n",
       "14999999       15000000  \n",
       "\n",
       "[15000000 rows x 19 columns]"
      ]
     },
     "execution_count": 3,
     "metadata": {},
     "output_type": "execute_result"
    }
   ],
   "source": [
    "import pandas as pd\n",
    "import numpy as np\n",
    "from uszipcode import SearchEngine\n",
    "from datetime import datetime\n",
    "from sklearn.linear_model import LinearRegression\n",
    "from sklearn.model_selection import train_test_split\n",
    "from sklearn.metrics import r2_score\n",
    "from sklearn.linear_model import BayesianRidge\n",
    "from catboost import CatBoostRegressor\n",
    "import seaborn as sns\n",
    "import matplotlib.pyplot as plt\n",
    "\n",
    "data = pd.read_csv('/Users/ujas/Downloads/eBay_ML_Challenge_Dataset_2021/eBay_ML_Challenge_Dataset_2021_train.tsv', sep = '\\t')\n",
    "\n",
    "data"
   ]
  },
  {
   "cell_type": "code",
   "execution_count": 4,
   "id": "6b487149",
   "metadata": {},
   "outputs": [
    {
     "data": {
      "text/plain": [
       "b2c_c2c                       object\n",
       "seller_id                      int64\n",
       "declared_handling_days       float64\n",
       "acceptance_scan_timestamp     object\n",
       "shipment_method_id             int64\n",
       "shipping_fee                 float64\n",
       "carrier_min_estimate           int64\n",
       "carrier_max_estimate           int64\n",
       "item_zip                      object\n",
       "buyer_zip                     object\n",
       "category_id                    int64\n",
       "item_price                   float64\n",
       "quantity                       int64\n",
       "payment_datetime              object\n",
       "delivery_date                 object\n",
       "weight                         int64\n",
       "weight_units                   int64\n",
       "package_size                  object\n",
       "record_number                  int64\n",
       "dtype: object"
      ]
     },
     "execution_count": 4,
     "metadata": {},
     "output_type": "execute_result"
    }
   ],
   "source": [
    "#checking data types of different columns that can help us see if any columns need to be cleaned particularly\n",
    "data.dtypes"
   ]
  },
  {
   "cell_type": "code",
   "execution_count": 5,
   "id": "e7ff1ae2",
   "metadata": {},
   "outputs": [
    {
     "data": {
      "text/plain": [
       "b2c_c2c                             2\n",
       "seller_id                     1759305\n",
       "declared_handling_days             11\n",
       "acceptance_scan_timestamp     2245193\n",
       "shipment_method_id                 25\n",
       "shipping_fee                     7044\n",
       "carrier_min_estimate                6\n",
       "carrier_max_estimate                6\n",
       "item_zip                        50939\n",
       "buyer_zip                       57273\n",
       "category_id                        33\n",
       "item_price                      41571\n",
       "quantity                          147\n",
       "payment_datetime             14090416\n",
       "delivery_date                     767\n",
       "weight                           1298\n",
       "weight_units                        2\n",
       "package_size                        7\n",
       "record_number                15000000\n",
       "dtype: int64"
      ]
     },
     "execution_count": 5,
     "metadata": {},
     "output_type": "execute_result"
    }
   ],
   "source": [
    "# printing unique values, which if less, can be used to check for data that needs to be cleaned\n",
    "data.nunique()"
   ]
  },
  {
   "cell_type": "markdown",
   "id": "a5b40060",
   "metadata": {},
   "source": [
    "### Data Cleaning\n",
    "\n",
    "I now start with looking for issues in data and cleaning them. I've tried to be as throrough as possible as the modelling will only be as good as the data. The fact that we are dealing with a real world dataset will make the cleaning process quite lenghty."
   ]
  },
  {
   "cell_type": "code",
   "execution_count": 6,
   "id": "ae27d2b9",
   "metadata": {},
   "outputs": [
    {
     "data": {
      "text/plain": [
       "b2c_c2c                           0\n",
       "seller_id                         0\n",
       "declared_handling_days       702886\n",
       "acceptance_scan_timestamp         0\n",
       "shipment_method_id                0\n",
       "shipping_fee                      0\n",
       "carrier_min_estimate              0\n",
       "carrier_max_estimate              0\n",
       "item_zip                          1\n",
       "buyer_zip                         1\n",
       "category_id                       0\n",
       "item_price                        0\n",
       "quantity                          0\n",
       "payment_datetime                  0\n",
       "delivery_date                     0\n",
       "weight                            0\n",
       "weight_units                      0\n",
       "package_size                      0\n",
       "record_number                     0\n",
       "dtype: int64"
      ]
     },
     "execution_count": 6,
     "metadata": {},
     "output_type": "execute_result"
    }
   ],
   "source": [
    "#I start off with checking if there are any N/A values in the dataset\n",
    "data.isna().sum()"
   ]
  },
  {
   "cell_type": "code",
   "execution_count": 7,
   "id": "3d178714",
   "metadata": {},
   "outputs": [
    {
     "data": {
      "text/plain": [
       "array(['B2C', 'C2C'], dtype=object)"
      ]
     },
     "execution_count": 7,
     "metadata": {},
     "output_type": "execute_result"
    }
   ],
   "source": [
    "#There are no N/A values in b2c_c2c, now let's check if the column only has the values it is supposed to, B2C and C2C\n",
    "data['b2c_c2c'].unique()"
   ]
  },
  {
   "cell_type": "code",
   "execution_count": 8,
   "id": "d1e36530",
   "metadata": {},
   "outputs": [],
   "source": [
    "#I now onverting b2c_c2c to a dummy variable, to make it usable in the model later on\n",
    "\n",
    "data['b2c_c2c'] = data['b2c_c2c'].replace({'B2C':0, 'C2C':1})"
   ]
  },
  {
   "cell_type": "code",
   "execution_count": 9,
   "id": "ad8909dc",
   "metadata": {},
   "outputs": [
    {
     "data": {
      "text/plain": [
       "0"
      ]
     },
     "execution_count": 9,
     "metadata": {},
     "output_type": "execute_result"
    }
   ],
   "source": [
    "#Seller ID does not have any N/As, but to ensure there are no issues with the data, we check for any negative values\n",
    "sum(data['seller_id']<0)"
   ]
  },
  {
   "cell_type": "code",
   "execution_count": 12,
   "id": "df142c6b",
   "metadata": {},
   "outputs": [
    {
     "name": "stdout",
     "output_type": "stream",
     "text": [
      "0\n",
      "[ 3.  2.  1.  5.  0. 10. nan  4. 30. 15. 20. 40.]\n"
     ]
    }
   ],
   "source": [
    "#Declared handling days has a considerable amount of null values, I will try to estimate these values later during feature engineering. And if I can't fill the null values I'll drop nulls at the end of the cleaning process.\n",
    "#For now we check for negative values\n",
    "print(sum(data['declared_handling_days']<0))\n",
    "\n",
    "#I also check for unique values to ensure that none of the values are problematic\n",
    "print(data['declared_handling_days'].unique())"
   ]
  },
  {
   "cell_type": "code",
   "execution_count": 14,
   "id": "d207cc77",
   "metadata": {},
   "outputs": [
    {
     "data": {
      "text/plain": [
       "0     9341444\n",
       "1     2955149\n",
       "2      856653\n",
       "3      780997\n",
       "4      297472\n",
       "5      253508\n",
       "6      176007\n",
       "7      137404\n",
       "8      125093\n",
       "9       39639\n",
       "10      27081\n",
       "11       5906\n",
       "13       1545\n",
       "12       1077\n",
       "14        447\n",
       "15        431\n",
       "16         48\n",
       "19         21\n",
       "17         20\n",
       "18         17\n",
       "21         16\n",
       "20         13\n",
       "22          6\n",
       "24          4\n",
       "26          2\n",
       "Name: shipment_method_id, dtype: int64"
      ]
     },
     "execution_count": 14,
     "metadata": {},
     "output_type": "execute_result"
    }
   ],
   "source": [
    "#Shipment method id has no N/A values, but I look into the data further to ensure it is as it should be.\n",
    "data.shipment_method_id.value_counts()\n",
    "#It does have 0 values, but that just seems to be prominent shipping method and not a None value."
   ]
  },
  {
   "cell_type": "code",
   "execution_count": 17,
   "id": "b62b7464",
   "metadata": {},
   "outputs": [
    {
     "name": "stdout",
     "output_type": "stream",
     "text": [
      "0\n"
     ]
    }
   ],
   "source": [
    "#For shipping fee does not have null values, but we check for negative values\n",
    "print(sum(data['shipping_fee']<0))\n",
    "\n",
    "#As negative values in shipping fee doesn't make sense, we assume it to be a data issue and set it to None\n",
    "for i in list(data[(data['shipping_fee']<0)]['record_number']):\n",
    "    data['shipping_fee'][i-1]=None"
   ]
  },
  {
   "cell_type": "code",
   "execution_count": 18,
   "id": "f4e44080",
   "metadata": {},
   "outputs": [
    {
     "name": "stdout",
     "output_type": "stream",
     "text": [
      "0\n"
     ]
    }
   ],
   "source": [
    "#Looking at carrier min estimate, we have no N/A values. I again check for negative values and put them to None\n",
    "print(sum(data['carrier_min_estimate']<0))\n",
    "print(data['carrier_min_estimate'].unique())\n",
    "data[\"carrier_min_estimate\"] = data[\"carrier_min_estimate\"].replace({-1:None})"
   ]
  },
  {
   "cell_type": "code",
   "execution_count": 19,
   "id": "144f34ea",
   "metadata": {},
   "outputs": [
    {
     "name": "stdout",
     "output_type": "stream",
     "text": [
      "1095\n",
      "[ 5  8  9  1 25 -1]\n"
     ]
    }
   ],
   "source": [
    "#Similarly for carrier max estimate.\n",
    "print(sum(data['carrier_max_estimate']<0))\n",
    "print(data['carrier_max_estimate'].unique())\n",
    "data[\"carrier_max_estimate\"] = data[\"carrier_max_estimate\"].replace({-1:None})"
   ]
  },
  {
   "cell_type": "code",
   "execution_count": 20,
   "id": "d77c47fe",
   "metadata": {},
   "outputs": [],
   "source": [
    "#Now checking item zip. We see that there is a null value. We will need to remove this null here itself to ensure that the code after runs without issue.\n",
    "\n",
    "#Finding the NaN value\n",
    "for x in range(len(data['item_zip'])):\n",
    "    try:\n",
    "        x = data['item_zip'][x][0]\n",
    "    except:\n",
    "        to_drop=x\n",
    "        \n",
    "#Removing the NaN value\n",
    "data.drop(to_drop, inplace=True)\n",
    "\n",
    "#Resetting the Index\n",
    "data.reset_index(drop=True, inplace=True)"
   ]
  },
  {
   "cell_type": "code",
   "execution_count": 21,
   "id": "ab05cc95",
   "metadata": {},
   "outputs": [],
   "source": [
    "#I also see that there are some 9 digit zip codes so we slice them to ensure future code works well\n",
    "data['item_zip'] = data['item_zip'].str.slice(0, 5)"
   ]
  },
  {
   "cell_type": "code",
   "execution_count": 22,
   "id": "d0e22f2e",
   "metadata": {},
   "outputs": [],
   "source": [
    "#Similarly for buyer zip\n",
    "#Finding the Nan value\n",
    "for x in range(len(data['buyer_zip'])):\n",
    "    try:\n",
    "        x = data['buyer_zip'][x][0]\n",
    "    except:\n",
    "        to_drop = x\n",
    "        \n",
    "#Removing the NaN value\n",
    "data.drop(to_drop, inplace=True)\n",
    "\n",
    "#Resetting the Index\n",
    "data.reset_index(drop=True, inplace=True)\n",
    "\n",
    "#Slicing the zip to first five digits\n",
    "data['buyer_zip'] = data['buyer_zip'].str.slice(0, 5)"
   ]
  },
  {
   "cell_type": "code",
   "execution_count": 23,
   "id": "388ca3b4",
   "metadata": {},
   "outputs": [
    {
     "name": "stdout",
     "output_type": "stream",
     "text": [
      "0\n",
      "0     2544488\n",
      "1     1293227\n",
      "2     1281052\n",
      "3     1233523\n",
      "4      931637\n",
      "5      787817\n",
      "6      772039\n",
      "7      720987\n",
      "8      569544\n",
      "10     543662\n",
      "9      538951\n",
      "11     445998\n",
      "12     434892\n",
      "13     429443\n",
      "14     366025\n",
      "15     320721\n",
      "16     303283\n",
      "17     257026\n",
      "19     239080\n",
      "18     215859\n",
      "20     125426\n",
      "22     102039\n",
      "21      97935\n",
      "23      94685\n",
      "24      69860\n",
      "25      65579\n",
      "26      64628\n",
      "27      39559\n",
      "28      38358\n",
      "29      32863\n",
      "30      28701\n",
      "31       9216\n",
      "32       1895\n",
      "Name: category_id, dtype: int64\n"
     ]
    }
   ],
   "source": [
    "#Category id does not have any null values. I check for negative values and also check if the 0 value makes sense.\n",
    "print(sum(data['category_id']<0))\n",
    "print(data.category_id.value_counts())\n",
    "#There are quite a bit 0 values, but from the distribution of values it seems like 0 is a part of the categorical variable."
   ]
  },
  {
   "cell_type": "code",
   "execution_count": 25,
   "id": "1d637ee9",
   "metadata": {},
   "outputs": [
    {
     "name": "stdout",
     "output_type": "stream",
     "text": [
      "2\n",
      "0\n"
     ]
    }
   ],
   "source": [
    "#For item price, we check for negative number.\n",
    "print(sum(data['item_price']==0))\n",
    "print(sum(data['item_price']<0))\n",
    "\n",
    "#Two values are equal to zero, but we let them be as its probable that two products were sold for free on the website."
   ]
  },
  {
   "cell_type": "code",
   "execution_count": 26,
   "id": "39a60351",
   "metadata": {},
   "outputs": [
    {
     "name": "stdout",
     "output_type": "stream",
     "text": [
      "0\n"
     ]
    }
   ],
   "source": [
    "#I now check the column quantity\n",
    "print(sum(data['quantity']<=0))"
   ]
  },
  {
   "cell_type": "code",
   "execution_count": 27,
   "id": "8b7266d1",
   "metadata": {},
   "outputs": [
    {
     "name": "stdout",
     "output_type": "stream",
     "text": [
      "4792626\n",
      "0\n"
     ]
    }
   ],
   "source": [
    "#Now I'll check if any of the weights are negative values. There are 0 values in weight which is supposed to represent null values, I convert 0s to nulls later.\n",
    "print(sum(data['weight']==0))\n",
    "print(sum(data['weight']<0))"
   ]
  },
  {
   "cell_type": "code",
   "execution_count": 28,
   "id": "dc461faf",
   "metadata": {},
   "outputs": [],
   "source": [
    "#Weights are in lbs and kgs, so here we create a new column to convert them to one unit.\n",
    "def converting_weights(row):\n",
    "    return [row[\"weight\"] if row[\"weight_units\"]==2 else (row[\"weight\"]*0.45359237)][0]\n",
    "\n",
    "data[\"weight_kg\"] = data.apply(converting_weights, axis=1)\n",
    "\n",
    "#I now replace 0s to Nones\n",
    "data[\"weight_kg\"] = data[\"weight_kg\"].replace({0:None})"
   ]
  },
  {
   "cell_type": "code",
   "execution_count": 29,
   "id": "82d0b442",
   "metadata": {},
   "outputs": [
    {
     "name": "stdout",
     "output_type": "stream",
     "text": [
      "PACKAGE_THICK_ENVELOPE    12652643\n",
      "NONE                       1055227\n",
      "LETTER                      912894\n",
      "LARGE_ENVELOPE              209218\n",
      "LARGE_PACKAGE               170014\n",
      "EXTRA_LARGE_PACKAGE              1\n",
      "VERY_LARGE_PACKAGE               1\n",
      "Name: package_size, dtype: int64\n"
     ]
    }
   ],
   "source": [
    "#In package size we check for unique values to see if all the categories make sense. We then convert 'NONE' to None type and other category variables to number.\n",
    "print(data['package_size'].value_counts())\n",
    "data[\"package_size\"] = data[\"package_size\"].replace({'NONE':None,'PACKAGE_THICK_ENVELOPE':0,'LETTER':1,'LARGE_ENVELOPE':2,'LARGE_PACKAGE':3,'VERY_LARGE_PACKAGE':4,'EXTRA_LARGE_PACKAGE':5})"
   ]
  },
  {
   "cell_type": "code",
   "execution_count": 30,
   "id": "9dd5c996",
   "metadata": {},
   "outputs": [],
   "source": [
    "#We now create a carrier average estimate out of carrier min and max estimates, as we think this would be a better data point to feed the models\n",
    "data = data.assign(carrier_average_estimate = lambda x: (x.carrier_min_estimate + x.carrier_max_estimate)/2)"
   ]
  },
  {
   "cell_type": "markdown",
   "id": "0f0bd7fe",
   "metadata": {},
   "source": [
    "I do not think item and buyer zip codes itself would be an important value to enter into the model. Calculating the distance variable from it should be much better able to predict delivery times. For this I try to find distance based on the zip codes. I decide to go ahead with the 'as the crow flies' distance because we are not aware of the exact method of how the purchase will be transferred between them (by road, air, rail or water).\n",
    "\n",
    "I use the uszipcode package for this. However, while using the package I find that it is extremely slow to search for 30 million zip codes (item and buyer) in the package database for their lat and long. Hence, I create a dictionary for all the zipcodes that I will need and store their lat and long. A dictionary becuase the time complexity of searching in a dictinary is O(1). This would considerably speed up the process of searching the lat and long for 30 million zip codes."
   ]
  },
  {
   "cell_type": "code",
   "execution_count": 31,
   "id": "4be2a972",
   "metadata": {},
   "outputs": [],
   "source": [
    "#Creating the dictionary of zipcodes and its lat and long\n",
    "search = SearchEngine(simple_zipcode=True)\n",
    "\n",
    "zipcodes_needed = set()\n",
    "\n",
    "for i in data['item_zip']:\n",
    "    zipcodes_needed.add(i)\n",
    "\n",
    "for i in data['buyer_zip']:\n",
    "    zipcodes_needed.add(i)\n",
    "    \n",
    "zipcodes_needed_list = list(zipcodes_needed)\n",
    "\n",
    "zipcodes_dict = {}\n",
    "\n",
    "for i in zipcodes_needed_list:\n",
    "    zip1 = search.by_zipcode(i)\n",
    "    zipcodes_dict[i]=[zip1.lat, zip1.lng]"
   ]
  },
  {
   "cell_type": "code",
   "execution_count": 32,
   "id": "b3ff05f8",
   "metadata": {},
   "outputs": [],
   "source": [
    "#Searching the dictionary for item and buyer zip to get lat and long and storing them.\n",
    "def itemlatlong(series):\n",
    "    latlong = zipcodes_dict[series['item_zip']]\n",
    "    return latlong\n",
    "\n",
    "data['item_coord'] = data.apply(itemlatlong, axis = 1)\n",
    "\n",
    "def buyerlatlong(series):\n",
    "    latlong = zipcodes_dict[series['buyer_zip']]\n",
    "    return latlong\n",
    "\n",
    "data['buyer_coord'] = data.apply(buyerlatlong, axis = 1)\n",
    "\n",
    "data[['item_lat','item_long']] = pd.DataFrame(data.item_coord.tolist(), index= data.index)\n",
    "data[['buyer_lat','buyer_long']] = pd.DataFrame(data.buyer_coord.tolist(), index= data.index)"
   ]
  },
  {
   "cell_type": "code",
   "execution_count": 33,
   "id": "2c7cc406",
   "metadata": {},
   "outputs": [],
   "source": [
    "#Finally I use the haversine formula (which determines the great circle distance between two points of a sphere) to find the distance between the zipcodes.\n",
    "def haversine_np(lon1, lat1, lon2, lat2):\n",
    "    \n",
    "    lon1, lat1, lon2, lat2 = map(np.radians, [lon1, lat1, lon2, lat2])\n",
    "\n",
    "    dlon = lon2 - lon1\n",
    "    dlat = lat2 - lat1\n",
    "\n",
    "    a = np.sin(dlat/2.0)**2 + np.cos(lat1) * np.cos(lat2) * np.sin(dlon/2.0)**2\n",
    "\n",
    "    c = 2 * np.arcsin(np.sqrt(a))\n",
    "    km = 6367 * c\n",
    "    return km\n",
    "\n",
    "#Credit: https://stackoverflow.com/questions/29545704/fast-haversine-approximation-python-pandas/29546836#29546836\n",
    "\n",
    "data['distance']=haversine_np(data['item_long'], data['item_lat'], data['buyer_long'], data['buyer_lat'])"
   ]
  },
  {
   "cell_type": "code",
   "execution_count": 34,
   "id": "bca92f9d",
   "metadata": {},
   "outputs": [],
   "source": [
    "#Now I work with the three datetime columns to convert the model to a useful format for our modelling.\n",
    "def date(string):\n",
    "    return string.split()[0]\n",
    "\n",
    "def convert_data(string):\n",
    "    return datetime.strptime(str(string), '%Y-%m-%d').date()\n",
    "\n",
    "def number_of_days(string):\n",
    "    return (string['delivery_date_modified'] - string['payment_date']).days"
   ]
  },
  {
   "cell_type": "code",
   "execution_count": 35,
   "id": "5719e05f",
   "metadata": {},
   "outputs": [],
   "source": [
    "#Now I use the above defined functions to convert the strings into a useable format.\n",
    "data['payment_date'] = data['payment_datetime'].apply(date)\n",
    "data['payment_date'] = data['payment_date'].apply(convert_data)\n",
    "data['delivery_date_modified'] = data['delivery_date'].apply(convert_data)\n",
    "data['no_of_days_after_payment'] = data.apply(number_of_days, axis = 1)"
   ]
  },
  {
   "cell_type": "code",
   "execution_count": 36,
   "id": "7348840c",
   "metadata": {},
   "outputs": [],
   "source": [
    "#After converting the data into a useable format, I drop rows wherein the delivery date is before the payment date as this clearly represents bad data.\n",
    "to_drop = data[data['no_of_days_after_payment']<0].index\n",
    "data.drop(index = to_drop, inplace = True)"
   ]
  },
  {
   "cell_type": "code",
   "execution_count": 38,
   "id": "7c8132da",
   "metadata": {},
   "outputs": [],
   "source": [
    "#Declared handling days has a number of null values. I create another column called handling days by subtracting acceptance date from payment date, as this would be a good stand in for declared handling days.\n",
    "def number_of_handling_days(string):\n",
    "    return (string['acceptance_date'] - string['payment_date']).days\n",
    "\n",
    "data['acceptance_date'] = data['acceptance_scan_timestamp'].apply(date)\n",
    "data['acceptance_date'] = data['acceptance_date'].apply(convert_data)\n",
    "data['handling_days'] = data.apply(number_of_handling_days, axis = 1)"
   ]
  },
  {
   "cell_type": "markdown",
   "id": "90917dce",
   "metadata": {},
   "source": [
    "I am done with the data cleaning for the purposes of this project. I still have more ideas on how to clean the data further and better which I'll undertake in my final submission to eBay.\n",
    "\n",
    "For now, I'll copy the data onto model_data to feed it to the models and drop null values. I decide to drop null values instead of estimating all null values as I believe we have enough data points (nearly 10 million)."
   ]
  },
  {
   "cell_type": "code",
   "execution_count": 39,
   "id": "30a3a62a",
   "metadata": {},
   "outputs": [],
   "source": [
    "#Creating model_data\n",
    "\n",
    "model_data = data.dropna()"
   ]
  },
  {
   "cell_type": "markdown",
   "id": "db3b68f6",
   "metadata": {},
   "source": [
    "### Loss Function\n",
    "eBay has defined a loss function that I have to try to minimize. The loss funtion penalizes early deliveries less than late deliveries. This is because deliveries later than the estimated date result in a worse experience for the customer than deliveries earlier than the estimated day. The penalty for early deliveries is 0.4, while the same for late deliveries is 0.6. eBay has also provided a baseline loss score, which is 0.75."
   ]
  },
  {
   "cell_type": "code",
   "execution_count": 40,
   "id": "81183296",
   "metadata": {},
   "outputs": [],
   "source": [
    "##Loss function\n",
    "\n",
    "def evaluate_loss(preds, actual):\n",
    "    early_loss, late_loss = 0,0 \n",
    "    for i in range(len(preds)):\n",
    "        if preds[i] < actual[i]:\n",
    "            #early shipment\n",
    "            early_loss += actual[i] - preds[i]\n",
    "        elif preds[i] > actual[i]:\n",
    "            #late shipment\n",
    "            late_loss += preds[i] - actual[i]\n",
    "    loss = (1/len(preds)) * (0.4 * (early_loss) + 0.6 * (late_loss))\n",
    "    return loss"
   ]
  },
  {
   "cell_type": "markdown",
   "id": "e89bca43",
   "metadata": {},
   "source": [
    "### Dividing Data into Train and Test\n",
    "Below I create my training and testing datasets in a 80:20 ratio."
   ]
  },
  {
   "cell_type": "code",
   "execution_count": 44,
   "id": "100967b6",
   "metadata": {},
   "outputs": [],
   "source": [
    "x = model_data[['b2c_c2c', 'declared_handling_days', 'carrier_average_estimate', 'distance', 'quantity', 'weight_kg', 'handling_days']]\n",
    "y = model_data['no_of_days_after_payment']\n",
    "x_train, x_test, y_train, y_test = train_test_split(x, y, test_size = 0.2, shuffle = True)"
   ]
  },
  {
   "cell_type": "markdown",
   "id": "9ece5bea",
   "metadata": {},
   "source": [
    "### Modelling"
   ]
  },
  {
   "cell_type": "markdown",
   "id": "d23d6b6d",
   "metadata": {},
   "source": [
    "#### Multivariate Linear regression"
   ]
  },
  {
   "cell_type": "markdown",
   "id": "dd42da5d",
   "metadata": {},
   "source": [
    "Talk about model\n",
    "why this mdoel\n",
    "Did you check for multicolinearity and stuff"
   ]
  },
  {
   "cell_type": "code",
   "execution_count": 47,
   "id": "a9d600df",
   "metadata": {},
   "outputs": [
    {
     "name": "stdout",
     "output_type": "stream",
     "text": [
      "RSquared: 0.6742228623041264\n",
      "Loss: 0.42817993414932787\n"
     ]
    }
   ],
   "source": [
    "model = LinearRegression()\n",
    "model.fit(np.array(x_train), y_train)\n",
    "predictions = model.predict(np.array(x_test))\n",
    "predictions = [np.floor(x) for x in predictions]\n",
    "print(\"RSquared: \" + str(r2_score(y_test, predictions)))\n",
    "print('Loss: ' + str(evaluate_loss(predictions,np.array(y_test))))"
   ]
  },
  {
   "cell_type": "markdown",
   "id": "688133c7",
   "metadata": {},
   "source": [
    "Talk about result."
   ]
  },
  {
   "cell_type": "markdown",
   "id": "029bd730",
   "metadata": {},
   "source": [
    "#### Bayesian Ridge"
   ]
  },
  {
   "cell_type": "markdown",
   "id": "1ad3bfdc",
   "metadata": {},
   "source": [
    "Talk about model\n",
    "why this mdoel\n"
   ]
  },
  {
   "cell_type": "code",
   "execution_count": 49,
   "id": "c90f4644",
   "metadata": {},
   "outputs": [
    {
     "name": "stdout",
     "output_type": "stream",
     "text": [
      "RSquared: 0.6742225290187922\n",
      "Loss: 0.42817993414932787\n"
     ]
    }
   ],
   "source": [
    "model_bayesian = BayesianRidge()\n",
    "model_bayesian.fit(x_train, y_train)\n",
    "pred_Bayes = model_bayesian.predict(np.array(x_test))\n",
    "pred_Bayes = [np.floor(x) for x in pred_Bayes]\n",
    "print('RSquared: ' + str(r2_score(y_test, pred_Bayes)))\n",
    "print('Loss: ' + str(evaluate_loss(pred_Bayes,np.array(y_test))))"
   ]
  },
  {
   "cell_type": "markdown",
   "id": "9dffc929",
   "metadata": {},
   "source": [
    "Talk about result"
   ]
  },
  {
   "cell_type": "markdown",
   "id": "81fc01bc",
   "metadata": {},
   "source": [
    "#### CatBoost"
   ]
  },
  {
   "cell_type": "markdown",
   "id": "32c24c4a",
   "metadata": {},
   "source": [
    "Talk about model\n",
    "why this mdoel\n",
    "\n"
   ]
  },
  {
   "cell_type": "code",
   "execution_count": 51,
   "id": "a0419855",
   "metadata": {},
   "outputs": [
    {
     "name": "stdout",
     "output_type": "stream",
     "text": [
      "0:\tlearn: 2.8726688\ttotal: 3.31s\tremaining: 5m 27s\n",
      "1:\tlearn: 2.6955728\ttotal: 5.18s\tremaining: 4m 13s\n",
      "2:\tlearn: 2.5380301\ttotal: 6.53s\tremaining: 3m 31s\n",
      "3:\tlearn: 2.3995318\ttotal: 8.03s\tremaining: 3m 12s\n",
      "4:\tlearn: 2.2805495\ttotal: 9.31s\tremaining: 2m 56s\n",
      "5:\tlearn: 2.1757138\ttotal: 10.5s\tremaining: 2m 44s\n",
      "6:\tlearn: 2.0872282\ttotal: 11.7s\tremaining: 2m 34s\n",
      "7:\tlearn: 2.0094400\ttotal: 12.8s\tremaining: 2m 27s\n",
      "8:\tlearn: 1.9436172\ttotal: 14.2s\tremaining: 2m 23s\n",
      "9:\tlearn: 1.8864139\ttotal: 15.8s\tremaining: 2m 22s\n",
      "10:\tlearn: 1.8381148\ttotal: 17.5s\tremaining: 2m 21s\n",
      "11:\tlearn: 1.7974389\ttotal: 18.8s\tremaining: 2m 17s\n",
      "12:\tlearn: 1.7628632\ttotal: 19.9s\tremaining: 2m 13s\n",
      "13:\tlearn: 1.7341645\ttotal: 21.6s\tremaining: 2m 12s\n",
      "14:\tlearn: 1.7093648\ttotal: 22.9s\tremaining: 2m 9s\n",
      "15:\tlearn: 1.6878545\ttotal: 24.4s\tremaining: 2m 8s\n",
      "16:\tlearn: 1.6700113\ttotal: 25.7s\tremaining: 2m 5s\n",
      "17:\tlearn: 1.6546003\ttotal: 26.9s\tremaining: 2m 2s\n",
      "18:\tlearn: 1.6414752\ttotal: 28.7s\tremaining: 2m 2s\n",
      "19:\tlearn: 1.6299673\ttotal: 30.3s\tremaining: 2m 1s\n",
      "20:\tlearn: 1.6200768\ttotal: 31.8s\tremaining: 1m 59s\n",
      "21:\tlearn: 1.6117766\ttotal: 34.1s\tremaining: 2m 1s\n",
      "22:\tlearn: 1.6045210\ttotal: 35.7s\tremaining: 1m 59s\n",
      "23:\tlearn: 1.5983256\ttotal: 37.1s\tremaining: 1m 57s\n",
      "24:\tlearn: 1.5927941\ttotal: 38.8s\tremaining: 1m 56s\n",
      "25:\tlearn: 1.5876634\ttotal: 40.3s\tremaining: 1m 54s\n",
      "26:\tlearn: 1.5835405\ttotal: 41.5s\tremaining: 1m 52s\n",
      "27:\tlearn: 1.5799412\ttotal: 42.7s\tremaining: 1m 49s\n",
      "28:\tlearn: 1.5763984\ttotal: 43.8s\tremaining: 1m 47s\n",
      "29:\tlearn: 1.5732678\ttotal: 45s\tremaining: 1m 44s\n",
      "30:\tlearn: 1.5706527\ttotal: 46.1s\tremaining: 1m 42s\n",
      "31:\tlearn: 1.5683882\ttotal: 48.9s\tremaining: 1m 43s\n",
      "32:\tlearn: 1.5662978\ttotal: 50.3s\tremaining: 1m 42s\n",
      "33:\tlearn: 1.5633069\ttotal: 51.9s\tremaining: 1m 40s\n",
      "34:\tlearn: 1.5608737\ttotal: 53.4s\tremaining: 1m 39s\n",
      "35:\tlearn: 1.5585859\ttotal: 54.9s\tremaining: 1m 37s\n",
      "36:\tlearn: 1.5567459\ttotal: 56.2s\tremaining: 1m 35s\n",
      "37:\tlearn: 1.5543424\ttotal: 57.7s\tremaining: 1m 34s\n",
      "38:\tlearn: 1.5524299\ttotal: 59.1s\tremaining: 1m 32s\n",
      "39:\tlearn: 1.5505065\ttotal: 1m\tremaining: 1m 30s\n",
      "40:\tlearn: 1.5487621\ttotal: 1m 1s\tremaining: 1m 28s\n",
      "41:\tlearn: 1.5470418\ttotal: 1m 2s\tremaining: 1m 26s\n",
      "42:\tlearn: 1.5457640\ttotal: 1m 4s\tremaining: 1m 25s\n",
      "43:\tlearn: 1.5445092\ttotal: 1m 5s\tremaining: 1m 23s\n",
      "44:\tlearn: 1.5432524\ttotal: 1m 7s\tremaining: 1m 22s\n",
      "45:\tlearn: 1.5419993\ttotal: 1m 8s\tremaining: 1m 20s\n",
      "46:\tlearn: 1.5411370\ttotal: 1m 9s\tremaining: 1m 18s\n",
      "47:\tlearn: 1.5401564\ttotal: 1m 10s\tremaining: 1m 16s\n",
      "48:\tlearn: 1.5392343\ttotal: 1m 11s\tremaining: 1m 14s\n",
      "49:\tlearn: 1.5385159\ttotal: 1m 13s\tremaining: 1m 13s\n",
      "50:\tlearn: 1.5378360\ttotal: 1m 14s\tremaining: 1m 11s\n",
      "51:\tlearn: 1.5372147\ttotal: 1m 15s\tremaining: 1m 9s\n",
      "52:\tlearn: 1.5365657\ttotal: 1m 16s\tremaining: 1m 7s\n",
      "53:\tlearn: 1.5359591\ttotal: 1m 17s\tremaining: 1m 6s\n",
      "54:\tlearn: 1.5354214\ttotal: 1m 18s\tremaining: 1m 4s\n",
      "55:\tlearn: 1.5346793\ttotal: 1m 20s\tremaining: 1m 2s\n",
      "56:\tlearn: 1.5336505\ttotal: 1m 21s\tremaining: 1m 1s\n",
      "57:\tlearn: 1.5331233\ttotal: 1m 22s\tremaining: 59.8s\n",
      "58:\tlearn: 1.5326468\ttotal: 1m 23s\tremaining: 58.2s\n",
      "59:\tlearn: 1.5320565\ttotal: 1m 24s\tremaining: 56.6s\n",
      "60:\tlearn: 1.5316845\ttotal: 1m 26s\tremaining: 55.1s\n",
      "61:\tlearn: 1.5310724\ttotal: 1m 27s\tremaining: 53.5s\n",
      "62:\tlearn: 1.5305555\ttotal: 1m 28s\tremaining: 52s\n",
      "63:\tlearn: 1.5300715\ttotal: 1m 29s\tremaining: 50.4s\n",
      "64:\tlearn: 1.5296026\ttotal: 1m 30s\tremaining: 48.9s\n",
      "65:\tlearn: 1.5289092\ttotal: 1m 31s\tremaining: 47.3s\n",
      "66:\tlearn: 1.5284661\ttotal: 1m 33s\tremaining: 45.8s\n",
      "67:\tlearn: 1.5281518\ttotal: 1m 34s\tremaining: 44.3s\n",
      "68:\tlearn: 1.5278247\ttotal: 1m 35s\tremaining: 42.8s\n",
      "69:\tlearn: 1.5276148\ttotal: 1m 36s\tremaining: 41.4s\n",
      "70:\tlearn: 1.5270850\ttotal: 1m 37s\tremaining: 39.9s\n",
      "71:\tlearn: 1.5266929\ttotal: 1m 38s\tremaining: 38.4s\n",
      "72:\tlearn: 1.5263781\ttotal: 1m 39s\tremaining: 37s\n",
      "73:\tlearn: 1.5260017\ttotal: 1m 41s\tremaining: 35.5s\n",
      "74:\tlearn: 1.5256389\ttotal: 1m 42s\tremaining: 34.1s\n",
      "75:\tlearn: 1.5251253\ttotal: 1m 43s\tremaining: 32.8s\n",
      "76:\tlearn: 1.5248380\ttotal: 1m 45s\tremaining: 31.4s\n",
      "77:\tlearn: 1.5244788\ttotal: 1m 46s\tremaining: 30.1s\n",
      "78:\tlearn: 1.5240483\ttotal: 1m 47s\tremaining: 28.7s\n",
      "79:\tlearn: 1.5237579\ttotal: 1m 49s\tremaining: 27.3s\n",
      "80:\tlearn: 1.5236411\ttotal: 1m 50s\tremaining: 25.9s\n",
      "81:\tlearn: 1.5230413\ttotal: 1m 51s\tremaining: 24.5s\n",
      "82:\tlearn: 1.5227168\ttotal: 1m 52s\tremaining: 23.1s\n",
      "83:\tlearn: 1.5222556\ttotal: 1m 54s\tremaining: 21.9s\n",
      "84:\tlearn: 1.5219290\ttotal: 1m 56s\tremaining: 20.5s\n",
      "85:\tlearn: 1.5216679\ttotal: 1m 57s\tremaining: 19.2s\n",
      "86:\tlearn: 1.5215520\ttotal: 1m 59s\tremaining: 17.8s\n",
      "87:\tlearn: 1.5213988\ttotal: 2m\tremaining: 16.4s\n",
      "88:\tlearn: 1.5211025\ttotal: 2m 1s\tremaining: 15s\n",
      "89:\tlearn: 1.5208562\ttotal: 2m 3s\tremaining: 13.7s\n",
      "90:\tlearn: 1.5204886\ttotal: 2m 4s\tremaining: 12.3s\n",
      "91:\tlearn: 1.5202785\ttotal: 2m 5s\tremaining: 10.9s\n",
      "92:\tlearn: 1.5199795\ttotal: 2m 6s\tremaining: 9.53s\n",
      "93:\tlearn: 1.5197535\ttotal: 2m 7s\tremaining: 8.17s\n",
      "94:\tlearn: 1.5193423\ttotal: 2m 9s\tremaining: 6.79s\n",
      "95:\tlearn: 1.5190495\ttotal: 2m 10s\tremaining: 5.43s\n",
      "96:\tlearn: 1.5187792\ttotal: 2m 11s\tremaining: 4.06s\n",
      "97:\tlearn: 1.5185822\ttotal: 2m 12s\tremaining: 2.71s\n",
      "98:\tlearn: 1.5184516\ttotal: 2m 13s\tremaining: 1.35s\n",
      "99:\tlearn: 1.5181838\ttotal: 2m 15s\tremaining: 0us\n",
      "Loss: 0.3932153689065414\n"
     ]
    }
   ],
   "source": [
    "#Converting package size to int from float\n",
    "cat_x= np.column_stack((model_data['b2c_c2c'],model_data['seller_id'], model_data['declared_handling_days'], model_data['shipment_method_id'],model_data['shipping_fee'], model_data['carrier_min_estimate'], model_data['carrier_max_estimate'], model_data['item_zip'], model_data['buyer_zip'], model_data['category_id'], model_data['item_price'], model_data['weight_kg'], model_data['quantity'], model_data['package_size'].astype(int), model_data['handling_days']))\n",
    "\n",
    "cat_y = np.array(model_data['no_of_days_after_payment'])\n",
    "\n",
    "cat_x_train, cat_x_test, cat_y_train, cat_y_test = train_test_split(cat_x, cat_y, train_size=0.8)\n",
    "\n",
    "cat_features = [0, 3, 7, 8, 9, 13]\n",
    "model = CatBoostRegressor(iterations=100, cat_features = cat_features, early_stopping_rounds=10, learning_rate = 0.1)\n",
    "\n",
    "model.fit(cat_x_train, cat_y_train)\n",
    "pred_Cat = model.predict(cat_x_test)\n",
    "\n",
    "pred_Cat = [np.floor(x) for x in pred_Cat]\n",
    "print('Loss: '+ str(evaluate_loss(pred_Cat,np.array(cat_y_test))))"
   ]
  },
  {
   "cell_type": "markdown",
   "id": "c0ef83d4",
   "metadata": {},
   "source": [
    "Test results"
   ]
  },
  {
   "cell_type": "markdown",
   "id": "2ffe2e04",
   "metadata": {},
   "source": [
    "### Conclusion\n",
    "\n",
    "\n",
    "### Learnings\n",
    "\n",
    "\n",
    "### Future work"
   ]
  },
  {
   "cell_type": "markdown",
   "id": "ed0850ed",
   "metadata": {},
   "source": [
    "# References\n",
    "1. \"Boosting Algorithms for Delivery Time Prediction in Transportation Logistics\", International Conference on Data Mining Workshops, 2020, DOI: 10.1109/ICDMW51313.2020.00043\n",
    "2. \"Predicting Shipping Time with Machine Learning\", Presented at Massachusets Institute of Technology, 2012.\n",
    "3. \"Predicting the Last Mile: Route-Free Prediction of Parcel Delivery Time with Deep Learning for Smart-City Applications\", Queen's University, Canada, 2020.\n",
    "4. eBay shipping predictions: https://milliemince.github.io/eBay-shipping-predictions/\n",
    "5. \"A Machine Learning Approach to Delivery Time Estimation for Industrial Equipment\", Purdue University.\n",
    "6. \"Predicting Package Delivery Time For Motorcycles In Nairobi\", Kenya College of Accountancy, 2020, DOI:10.13140/RG.2.2.27105.94567\n",
    "7. \"DeepETA: A Spatial-Temporal Sequential Neural Network Model for Estimating Time of Arrival in Package Delivery System\", Assosciation for the Advancement of Artificial Intelligence, 2019."
   ]
  },
  {
   "cell_type": "code",
   "execution_count": 53,
   "id": "da1da365",
   "metadata": {},
   "outputs": [
    {
     "data": {
      "text/html": [
       "<div>\n",
       "<style scoped>\n",
       "    .dataframe tbody tr th:only-of-type {\n",
       "        vertical-align: middle;\n",
       "    }\n",
       "\n",
       "    .dataframe tbody tr th {\n",
       "        vertical-align: top;\n",
       "    }\n",
       "\n",
       "    .dataframe thead th {\n",
       "        text-align: right;\n",
       "    }\n",
       "</style>\n",
       "<table border=\"1\" class=\"dataframe\">\n",
       "  <thead>\n",
       "    <tr style=\"text-align: right;\">\n",
       "      <th></th>\n",
       "      <th>b2c_c2c</th>\n",
       "      <th>seller_id</th>\n",
       "      <th>declared_handling_days</th>\n",
       "      <th>acceptance_scan_timestamp</th>\n",
       "      <th>shipment_method_id</th>\n",
       "      <th>shipping_fee</th>\n",
       "      <th>carrier_min_estimate</th>\n",
       "      <th>carrier_max_estimate</th>\n",
       "      <th>item_zip</th>\n",
       "      <th>buyer_zip</th>\n",
       "      <th>...</th>\n",
       "      <th>item_lat</th>\n",
       "      <th>item_long</th>\n",
       "      <th>buyer_lat</th>\n",
       "      <th>buyer_long</th>\n",
       "      <th>distance</th>\n",
       "      <th>payment_date</th>\n",
       "      <th>delivery_date_modified</th>\n",
       "      <th>no_of_days_after_payment</th>\n",
       "      <th>acceptance_date</th>\n",
       "      <th>handling_days</th>\n",
       "    </tr>\n",
       "  </thead>\n",
       "  <tbody>\n",
       "    <tr>\n",
       "      <th>0</th>\n",
       "      <td>0</td>\n",
       "      <td>25454</td>\n",
       "      <td>3.0</td>\n",
       "      <td>2019-03-26 15:11:00.000-07:00</td>\n",
       "      <td>0</td>\n",
       "      <td>0.0</td>\n",
       "      <td>3</td>\n",
       "      <td>5</td>\n",
       "      <td>97219</td>\n",
       "      <td>49040</td>\n",
       "      <td>...</td>\n",
       "      <td>45.45</td>\n",
       "      <td>-122.70</td>\n",
       "      <td>41.97</td>\n",
       "      <td>-85.34</td>\n",
       "      <td>2998.409748</td>\n",
       "      <td>2019-03-24</td>\n",
       "      <td>2019-03-29</td>\n",
       "      <td>5</td>\n",
       "      <td>2019-03-26</td>\n",
       "      <td>2</td>\n",
       "    </tr>\n",
       "    <tr>\n",
       "      <th>2</th>\n",
       "      <td>0</td>\n",
       "      <td>18507</td>\n",
       "      <td>1.0</td>\n",
       "      <td>2019-01-07 16:22:00.000-05:00</td>\n",
       "      <td>0</td>\n",
       "      <td>4.5</td>\n",
       "      <td>3</td>\n",
       "      <td>5</td>\n",
       "      <td>27292</td>\n",
       "      <td>53010</td>\n",
       "      <td>...</td>\n",
       "      <td>35.70</td>\n",
       "      <td>-80.20</td>\n",
       "      <td>43.60</td>\n",
       "      <td>-88.30</td>\n",
       "      <td>1117.294212</td>\n",
       "      <td>2019-01-06</td>\n",
       "      <td>2019-01-10</td>\n",
       "      <td>4</td>\n",
       "      <td>2019-01-07</td>\n",
       "      <td>1</td>\n",
       "    </tr>\n",
       "    <tr>\n",
       "      <th>3</th>\n",
       "      <td>0</td>\n",
       "      <td>4677</td>\n",
       "      <td>1.0</td>\n",
       "      <td>2018-12-17 16:56:00.000-08:00</td>\n",
       "      <td>0</td>\n",
       "      <td>0.0</td>\n",
       "      <td>3</td>\n",
       "      <td>5</td>\n",
       "      <td>90703</td>\n",
       "      <td>80022</td>\n",
       "      <td>...</td>\n",
       "      <td>33.87</td>\n",
       "      <td>-118.07</td>\n",
       "      <td>39.90</td>\n",
       "      <td>-104.80</td>\n",
       "      <td>1354.422938</td>\n",
       "      <td>2018-12-16</td>\n",
       "      <td>2018-12-21</td>\n",
       "      <td>5</td>\n",
       "      <td>2018-12-17</td>\n",
       "      <td>1</td>\n",
       "    </tr>\n",
       "    <tr>\n",
       "      <th>4</th>\n",
       "      <td>0</td>\n",
       "      <td>4677</td>\n",
       "      <td>1.0</td>\n",
       "      <td>2018-07-27 16:48:00.000-07:00</td>\n",
       "      <td>0</td>\n",
       "      <td>0.0</td>\n",
       "      <td>3</td>\n",
       "      <td>5</td>\n",
       "      <td>90703</td>\n",
       "      <td>55070</td>\n",
       "      <td>...</td>\n",
       "      <td>33.87</td>\n",
       "      <td>-118.07</td>\n",
       "      <td>45.40</td>\n",
       "      <td>-93.40</td>\n",
       "      <td>2454.523563</td>\n",
       "      <td>2018-07-26</td>\n",
       "      <td>2018-07-30</td>\n",
       "      <td>4</td>\n",
       "      <td>2018-07-27</td>\n",
       "      <td>1</td>\n",
       "    </tr>\n",
       "    <tr>\n",
       "      <th>5</th>\n",
       "      <td>0</td>\n",
       "      <td>10514</td>\n",
       "      <td>1.0</td>\n",
       "      <td>2019-04-19 19:42:00.000-04:00</td>\n",
       "      <td>0</td>\n",
       "      <td>0.0</td>\n",
       "      <td>3</td>\n",
       "      <td>5</td>\n",
       "      <td>43215</td>\n",
       "      <td>77063</td>\n",
       "      <td>...</td>\n",
       "      <td>39.97</td>\n",
       "      <td>-83.03</td>\n",
       "      <td>29.74</td>\n",
       "      <td>-95.52</td>\n",
       "      <td>1606.049059</td>\n",
       "      <td>2019-04-18</td>\n",
       "      <td>2019-04-22</td>\n",
       "      <td>4</td>\n",
       "      <td>2019-04-19</td>\n",
       "      <td>1</td>\n",
       "    </tr>\n",
       "  </tbody>\n",
       "</table>\n",
       "<p>5 rows × 33 columns</p>\n",
       "</div>"
      ],
      "text/plain": [
       "   b2c_c2c  seller_id  declared_handling_days      acceptance_scan_timestamp  \\\n",
       "0        0      25454                     3.0  2019-03-26 15:11:00.000-07:00   \n",
       "2        0      18507                     1.0  2019-01-07 16:22:00.000-05:00   \n",
       "3        0       4677                     1.0  2018-12-17 16:56:00.000-08:00   \n",
       "4        0       4677                     1.0  2018-07-27 16:48:00.000-07:00   \n",
       "5        0      10514                     1.0  2019-04-19 19:42:00.000-04:00   \n",
       "\n",
       "   shipment_method_id  shipping_fee carrier_min_estimate carrier_max_estimate  \\\n",
       "0                   0           0.0                    3                    5   \n",
       "2                   0           4.5                    3                    5   \n",
       "3                   0           0.0                    3                    5   \n",
       "4                   0           0.0                    3                    5   \n",
       "5                   0           0.0                    3                    5   \n",
       "\n",
       "  item_zip buyer_zip  ...  item_lat  item_long  buyer_lat buyer_long  \\\n",
       "0    97219     49040  ...     45.45    -122.70      41.97     -85.34   \n",
       "2    27292     53010  ...     35.70     -80.20      43.60     -88.30   \n",
       "3    90703     80022  ...     33.87    -118.07      39.90    -104.80   \n",
       "4    90703     55070  ...     33.87    -118.07      45.40     -93.40   \n",
       "5    43215     77063  ...     39.97     -83.03      29.74     -95.52   \n",
       "\n",
       "      distance  payment_date  delivery_date_modified  \\\n",
       "0  2998.409748    2019-03-24              2019-03-29   \n",
       "2  1117.294212    2019-01-06              2019-01-10   \n",
       "3  1354.422938    2018-12-16              2018-12-21   \n",
       "4  2454.523563    2018-07-26              2018-07-30   \n",
       "5  1606.049059    2019-04-18              2019-04-22   \n",
       "\n",
       "   no_of_days_after_payment  acceptance_date handling_days  \n",
       "0                         5       2019-03-26             2  \n",
       "2                         4       2019-01-07             1  \n",
       "3                         5       2018-12-17             1  \n",
       "4                         4       2018-07-27             1  \n",
       "5                         4       2019-04-19             1  \n",
       "\n",
       "[5 rows x 33 columns]"
      ]
     },
     "execution_count": 53,
     "metadata": {},
     "output_type": "execute_result"
    }
   ],
   "source": [
    "model_data.head()"
   ]
  },
  {
   "cell_type": "code",
   "execution_count": 70,
   "id": "56465c69",
   "metadata": {},
   "outputs": [
    {
     "data": {
      "text/plain": [
       "(0.0, 25.0)"
      ]
     },
     "execution_count": 70,
     "metadata": {},
     "output_type": "execute_result"
    },
    {
     "data": {
      "image/png": "[encoded data removed]",
      "text/plain": [
       "<Figure size 432x288 with 1 Axes>"
      ]
     },
     "metadata": {
      "needs_background": "light"
     },
     "output_type": "display_data"
    }
   ],
   "source": [
    "plt.hist(model_data['no_of_days_after_payment'], bins = 200)\n",
    "plt.xlim(0, 25)"
   ]
  },
  {
   "cell_type": "code",
   "execution_count": 73,
   "id": "b4322405",
   "metadata": {},
   "outputs": [
    {
     "data": {
      "text/plain": [
       "<AxesSubplot:xlabel='distance', ylabel='no_of_days_after_payment'>"
      ]
     },
     "execution_count": 73,
     "metadata": {},
     "output_type": "execute_result"
    },
    {
     "data": {
      "image/png": "[encoded data removed]",
      "text/plain": [
       "<Figure size 432x288 with 1 Axes>"
      ]
     },
     "metadata": {
      "needs_background": "light"
     },
     "output_type": "display_data"
    }
   ],
   "source": [
    "sns.scatterplot(x = model_data['distance'], y = model_data['no_of_days_after_payment'])"
   ]
  },
  {
   "cell_type": "code",
   "execution_count": 75,
   "id": "6ae4c668",
   "metadata": {},
   "outputs": [
    {
     "data": {
      "text/plain": [
       "<AxesSubplot:xlabel='shipment_method_id', ylabel='distance'>"
      ]
     },
     "execution_count": 75,
     "metadata": {},
     "output_type": "execute_result"
    },
    {
     "data": {
      "image/png": "[encoded data removed]",
      "text/plain": [
       "<Figure size 432x288 with 1 Axes>"
      ]
     },
     "metadata": {
      "needs_background": "light"
     },
     "output_type": "display_data"
    }
   ],
   "source": [
    "sns.scatterplot(x = model_data['shipment_method_id'], y = model_data['distance'])"
   ]
  },
  {
   "cell_type": "code",
   "execution_count": null,
   "id": "db72df29",
   "metadata": {},
   "outputs": [],
   "source": []
  }
 ],
 "metadata": {
  "kernelspec": {
   "display_name": "Python 3",
   "language": "python",
   "name": "python3"
  },
  "language_info": {
   "codemirror_mode": {
    "name": "ipython",
    "version": 3
   },
   "file_extension": ".py",
   "mimetype": "text/x-python",
   "name": "python",
   "nbconvert_exporter": "python",
   "pygments_lexer": "ipython3",
   "version": "3.8.8"
  }
 },
 "nbformat": 4,
 "nbformat_minor": 5
}
